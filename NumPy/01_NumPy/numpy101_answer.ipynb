{
 "cells": [
  {
   "cell_type": "markdown",
   "metadata": {},
   "source": [
    "# 1 引入numpy并查看版本\n",
    "```\n",
    "out:1.17.3\n",
    "```"
   ]
  },
  {
   "cell_type": "code",
   "execution_count": 2,
   "metadata": {},
   "outputs": [
    {
     "data": {
      "text/plain": [
       "'1.19.2'"
      ]
     },
     "execution_count": 2,
     "metadata": {},
     "output_type": "execute_result"
    }
   ],
   "source": [
    "import numpy as np\n",
    "np.__version__"
   ]
  },
  {
   "cell_type": "markdown",
   "metadata": {},
   "source": [
    "# 2 创建一位数组，0-9\n",
    "```\n",
    "out:array([0, 1, 2, 3, 4, 5, 6, 7, 8, 9])\n",
    "```"
   ]
  },
  {
   "cell_type": "code",
   "execution_count": 3,
   "metadata": {},
   "outputs": [
    {
     "data": {
      "text/plain": [
       "array([0, 1, 2, 3, 4, 5, 6, 7, 8, 9])"
      ]
     },
     "execution_count": 3,
     "metadata": {},
     "output_type": "execute_result"
    }
   ],
   "source": [
    "np.arange(10)"
   ]
  },
  {
   "cell_type": "markdown",
   "metadata": {},
   "source": [
    "# 3 创建boolean数组（3x3全部为True）\n",
    "```\n",
    "out:array([[ True,  True,  True],\n",
    "       [ True,  True,  True],\n",
    "       [ True,  True,  True]])\n",
    "```"
   ]
  },
  {
   "cell_type": "code",
   "execution_count": 4,
   "metadata": {},
   "outputs": [
    {
     "data": {
      "text/plain": [
       "array([[ True,  True,  True],\n",
       "       [ True,  True,  True],\n",
       "       [ True,  True,  True]])"
      ]
     },
     "execution_count": 4,
     "metadata": {},
     "output_type": "execute_result"
    }
   ],
   "source": [
    "np.full((3, 3), True)"
   ]
  },
  {
   "cell_type": "markdown",
   "metadata": {},
   "source": [
    "# 4 提取满足条件的元素（提取奇数项）\n",
    "```\n",
    "in:    arr = np.array([0, 1, 2, 3, 4, 5, 6, 7, 8, 9])\n",
    "out:   array([1, 3, 5, 7, 9])\n",
    "```"
   ]
  },
  {
   "cell_type": "code",
   "execution_count": 8,
   "metadata": {},
   "outputs": [
    {
     "data": {
      "text/plain": [
       "array([1, 3, 5, 7, 9])"
      ]
     },
     "execution_count": 8,
     "metadata": {},
     "output_type": "execute_result"
    }
   ],
   "source": [
    "arr = np.array([0, 1, 2, 3, 4, 5, 6, 7, 8, 9])\n",
    "# arr[1::2]\n",
    "arr[arr%2==1]"
   ]
  },
  {
   "cell_type": "markdown",
   "metadata": {},
   "source": [
    "# 5 替换满足条件的元素（替换奇数项为-1）\n",
    "```\n",
    "in: arr = np.array([0, 1, 2, 3, 4, 5, 6, 7, 8, 9])\n",
    "out:array([0, -1, 2, -1, 4, -1, 6, -1, 8, -1])\n",
    "```"
   ]
  },
  {
   "cell_type": "code",
   "execution_count": 11,
   "metadata": {},
   "outputs": [
    {
     "data": {
      "text/plain": [
       "array([ 0, -1,  2, -1,  4, -1,  6, -1,  8, -1])"
      ]
     },
     "execution_count": 11,
     "metadata": {},
     "output_type": "execute_result"
    }
   ],
   "source": [
    "arr = np.array([0, 1, 2, 3, 4, 5, 6, 7, 8, 9])\n",
    "arr[arr%2==1] = -1\n",
    "arr"
   ]
  },
  {
   "cell_type": "markdown",
   "metadata": {},
   "source": [
    "# 6 与5相同，但是不要在原数组上改动，返回个新的数组"
   ]
  },
  {
   "cell_type": "code",
   "execution_count": 12,
   "metadata": {},
   "outputs": [
    {
     "data": {
      "text/plain": [
       "array([ 0, -1,  2, -1,  4, -1,  6, -1,  8, -1])"
      ]
     },
     "execution_count": 12,
     "metadata": {},
     "output_type": "execute_result"
    }
   ],
   "source": [
    "arr = np.array([0, 1, 2, 3, 4, 5, 6, 7, 8, 9])\n",
    "res = np.where(arr%2==1, -1, arr)\n",
    "res"
   ]
  },
  {
   "cell_type": "markdown",
   "metadata": {},
   "source": [
    "# 7 reshape一个数组（0-9这个一维数组->2x5的二维数组）\n",
    "```\n",
    "in: arr = np.array([0, 1, 2, 3, 4, 5, 6, 7, 8, 9])\n",
    "out: array([[0, 1, 2, 3, 4],\n",
    "       [5, 6, 7, 8, 9]])\n",
    "```"
   ]
  },
  {
   "cell_type": "code",
   "execution_count": 13,
   "metadata": {},
   "outputs": [
    {
     "data": {
      "text/plain": [
       "array([[0, 1, 2, 3, 4],\n",
       "       [5, 6, 7, 8, 9]])"
      ]
     },
     "execution_count": 13,
     "metadata": {},
     "output_type": "execute_result"
    }
   ],
   "source": [
    "np.arange(10).reshape(2, 5)"
   ]
  },
  {
   "cell_type": "markdown",
   "metadata": {},
   "source": [
    "# 8 垂直拼接俩数组\n",
    "```\n",
    "in: a = np.arange(10).reshape(2,-1)\n",
    "   b = np.repeat(1, 10).reshape(2,-1)\n",
    "out: array([[0, 1, 2, 3, 4],\n",
    "       [5, 6, 7, 8, 9],\n",
    "       [1, 1, 1, 1, 1],\n",
    "       [1, 1, 1, 1, 1]])\n",
    "```"
   ]
  },
  {
   "cell_type": "code",
   "execution_count": 14,
   "metadata": {},
   "outputs": [
    {
     "data": {
      "text/plain": [
       "array([[0, 1, 2, 3, 4],\n",
       "       [5, 6, 7, 8, 9],\n",
       "       [1, 1, 1, 1, 1],\n",
       "       [1, 1, 1, 1, 1]])"
      ]
     },
     "execution_count": 14,
     "metadata": {},
     "output_type": "execute_result"
    }
   ],
   "source": [
    "a = np.arange(10).reshape(2,-1)\n",
    "b = np.repeat(1, 10).reshape(2,-1)\n",
    "\n",
    "np.vstack([a, b])"
   ]
  },
  {
   "cell_type": "markdown",
   "metadata": {},
   "source": [
    "# 9 水平拼接俩数组\n",
    "```\n",
    "in: a = np.arange(10).reshape(2,-1)\n",
    "   b = np.repeat(1, 10).reshape(2,-1)\n",
    "out: array([[0, 1, 2, 3, 4, 1, 1, 1, 1, 1],\n",
    "       [5, 6, 7, 8, 9, 1, 1, 1, 1, 1]])\n",
    "```"
   ]
  },
  {
   "cell_type": "code",
   "execution_count": 15,
   "metadata": {},
   "outputs": [
    {
     "data": {
      "text/plain": [
       "array([[0, 1, 2, 3, 4, 1, 1, 1, 1, 1],\n",
       "       [5, 6, 7, 8, 9, 1, 1, 1, 1, 1]])"
      ]
     },
     "execution_count": 15,
     "metadata": {},
     "output_type": "execute_result"
    }
   ],
   "source": [
    "a = np.arange(10).reshape(2,-1)\n",
    "b = np.repeat(1, 10).reshape(2,-1)\n",
    "\n",
    "np.hstack([a,b])"
   ]
  },
  {
   "cell_type": "markdown",
   "metadata": {},
   "source": [
    "# 10 生成自定义的数组\n",
    "```\n",
    "in: a = np.array([1,2,3])\n",
    "out: array([1, 1, 1, 2, 2, 2, 3, 3, 3, 1, 2, 3, 1, 2, 3, 1, 2, 3])\n",
    "```"
   ]
  },
  {
   "cell_type": "code",
   "execution_count": 16,
   "metadata": {},
   "outputs": [
    {
     "data": {
      "text/plain": [
       "array([1, 1, 1, 2, 2, 2, 3, 3, 3, 1, 2, 3, 1, 2, 3, 1, 2, 3])"
      ]
     },
     "execution_count": 16,
     "metadata": {},
     "output_type": "execute_result"
    }
   ],
   "source": [
    "a = np.array([1,2,3])\n",
    "\n",
    "np.hstack([np.repeat(a, 3), np.tile(a, 3)])"
   ]
  },
  {
   "cell_type": "markdown",
   "metadata": {},
   "source": [
    "# 11 求两数组交集\n",
    "```\n",
    "in: a = np.array([1,2,3,2,3,4,3,4,5,6])\n",
    "   b = np.array([7,2,10,2,7,4,9,4,9,8])\n",
    "out:array([2, 4])\n",
    "```"
   ]
  },
  {
   "cell_type": "code",
   "execution_count": 27,
   "metadata": {},
   "outputs": [
    {
     "data": {
      "text/plain": [
       "array([2, 4])"
      ]
     },
     "execution_count": 27,
     "metadata": {},
     "output_type": "execute_result"
    }
   ],
   "source": [
    "a = np.array([1,2,3,2,3,4,3,4,5,6])\n",
    "b = np.array([7,2,10,2,7,4,9,4,9,8])\n",
    "# np.intersect1d(a,b)\n",
    "np.intersect1d(a,b)"
   ]
  },
  {
   "cell_type": "markdown",
   "metadata": {},
   "source": [
    "# 12 从一个数组中删除另一个数组中含有的元素\n",
    "```\n",
    "in: a = np.array([1,2,3,4,5])\n",
    "   b = np.array([5,6,7,8,9])\n",
    "out:array([1,2,3,4])\n",
    "```"
   ]
  },
  {
   "cell_type": "code",
   "execution_count": 28,
   "metadata": {},
   "outputs": [
    {
     "data": {
      "text/plain": [
       "array([1, 2, 3, 4])"
      ]
     },
     "execution_count": 28,
     "metadata": {},
     "output_type": "execute_result"
    }
   ],
   "source": [
    "a = np.array([1,2,3,4,5])\n",
    "b = np.array([5,6,7,8,9])\n",
    "\n",
    "np.setdiff1d(a, b)"
   ]
  },
  {
   "cell_type": "markdown",
   "metadata": {},
   "source": [
    "# 13 两等长数组，找出位置相同且值也相同的下标\n",
    "```\n",
    "in: a = np.array([1,2,3,2,3,4,3,4,5,6])\n",
    "   b = np.array([7,2,10,2,7,4,9,4,9,8])\n",
    "out:(array([1, 3, 5, 7]),)\n",
    "```"
   ]
  },
  {
   "cell_type": "code",
   "execution_count": 29,
   "metadata": {},
   "outputs": [
    {
     "data": {
      "text/plain": [
       "(array([1, 3, 5, 7], dtype=int64),)"
      ]
     },
     "execution_count": 29,
     "metadata": {},
     "output_type": "execute_result"
    }
   ],
   "source": [
    "a = np.array([1,2,3,2,3,4,3,4,5,6])\n",
    "b = np.array([7,2,10,2,7,4,9,4,9,8])\n",
    "\n",
    "np.where(a == b)"
   ]
  },
  {
   "cell_type": "markdown",
   "metadata": {},
   "source": [
    "# 14 提取给定范围的数据(提取值在5-10之间的元素)\n",
    "```\n",
    "in: a = np.array([2, 6, 1, 9, 10, 3, 27])\n",
    "out:(array([6, 9, 10]),)\n",
    "```"
   ]
  },
  {
   "cell_type": "code",
   "execution_count": 4,
   "metadata": {},
   "outputs": [
    {
     "data": {
      "text/plain": [
       "array([ 6,  9, 10])"
      ]
     },
     "execution_count": 4,
     "metadata": {},
     "output_type": "execute_result"
    }
   ],
   "source": [
    "a = np.array([2, 6, 1, 9, 10, 3, 27])\n",
    "\n",
    "index = np.where((a >= 5) & (a <= 10))\n",
    "a[index]"
   ]
  },
  {
   "cell_type": "code",
   "execution_count": 5,
   "metadata": {},
   "outputs": [
    {
     "data": {
      "text/plain": [
       "array([ 6,  9, 10])"
      ]
     },
     "execution_count": 5,
     "metadata": {},
     "output_type": "execute_result"
    }
   ],
   "source": [
    "a = np.array([2, 6, 1, 9, 10, 3, 27])\n",
    "\n",
    "index = np.where(np.logical_and(a > 5, a <= 10))\n",
    "a[index]"
   ]
  },
  {
   "cell_type": "code",
   "execution_count": 8,
   "metadata": {},
   "outputs": [
    {
     "data": {
      "text/plain": [
       "array([ 6,  9, 10])"
      ]
     },
     "execution_count": 8,
     "metadata": {},
     "output_type": "execute_result"
    }
   ],
   "source": [
    "a = np.array([2, 6, 1, 9, 10, 3, 27])\n",
    "\n",
    "a[(a >= 5) & (a <= 10)]"
   ]
  },
  {
   "cell_type": "markdown",
   "metadata": {},
   "source": [
    "# 15 取a,b两等长数组中较大值为新数组\n",
    "```\n",
    "in: a = [4,6,1,7,9]\n",
    "b=[1,6,9,2,7]\n",
    "```"
   ]
  },
  {
   "cell_type": "code",
   "execution_count": 11,
   "metadata": {},
   "outputs": [
    {
     "data": {
      "text/plain": [
       "array([4., 6., 9., 7., 9.])"
      ]
     },
     "execution_count": 11,
     "metadata": {},
     "output_type": "execute_result"
    }
   ],
   "source": [
    "a = [4,6,1,7,9]\n",
    "b = [1,6,9,2,7]\n",
    "\n",
    "def maxx(x, y):\n",
    "    if x > y:\n",
    "        return x\n",
    "    else:\n",
    "        return y\n",
    "    \n",
    "pair_max = np.vectorize(maxx, otypes=[float])\n",
    "pair_max(a, b)"
   ]
  },
  {
   "cell_type": "markdown",
   "metadata": {},
   "source": [
    "# 16 如何交换二维数组两列（交换3x3数组的第0和第1列）\n",
    "```\n",
    "in:arr = np.arange(9).reshape(3,3)\n",
    "out:array([[1, 0, 2],\n",
    "       [4, 3, 5],\n",
    "       [7, 6, 8]])\n",
    "```"
   ]
  },
  {
   "cell_type": "code",
   "execution_count": 13,
   "metadata": {},
   "outputs": [
    {
     "data": {
      "text/plain": [
       "array([[1, 0, 2],\n",
       "       [4, 3, 5],\n",
       "       [7, 6, 8]])"
      ]
     },
     "execution_count": 13,
     "metadata": {},
     "output_type": "execute_result"
    }
   ],
   "source": [
    "arr = np.arange(9).reshape(3,3)\n",
    "\n",
    "arr[:, [1, 0, 2]]"
   ]
  },
  {
   "cell_type": "markdown",
   "metadata": {},
   "source": [
    "# 17 如何交换二维数组两行（交换3x3数组第0和第1行）\n",
    "```\n",
    "in:arr = np.arange(9).reshape(3,3)\n",
    "out:array([[3, 4, 5],\n",
    "       [0, 1, 2],\n",
    "       [6, 7, 8]])\n",
    "```"
   ]
  },
  {
   "cell_type": "code",
   "execution_count": 15,
   "metadata": {},
   "outputs": [
    {
     "data": {
      "text/plain": [
       "array([[3, 4, 5],\n",
       "       [0, 1, 2],\n",
       "       [6, 7, 8]])"
      ]
     },
     "execution_count": 15,
     "metadata": {},
     "output_type": "execute_result"
    }
   ],
   "source": [
    "arr =np.arange(9).reshape(3,3)\n",
    "\n",
    "arr[[1, 0, 2], :]"
   ]
  },
  {
   "cell_type": "markdown",
   "metadata": {},
   "source": [
    "# 18 如何反转二维数组的行\n",
    "```\n",
    "in:arr = np.arange(9).reshape(3,3)\n",
    "out:array([[6, 7, 8],\n",
    "       [3, 4, 5],\n",
    "       [0, 1, 2]])\n",
    "```"
   ]
  },
  {
   "cell_type": "code",
   "execution_count": 16,
   "metadata": {},
   "outputs": [
    {
     "data": {
      "text/plain": [
       "array([[6, 7, 8],\n",
       "       [3, 4, 5],\n",
       "       [0, 1, 2]])"
      ]
     },
     "execution_count": 16,
     "metadata": {},
     "output_type": "execute_result"
    }
   ],
   "source": [
    "arr =np.arange(9).reshape(3,3)\n",
    "\n",
    "arr[[2, 1, 0], :]"
   ]
  },
  {
   "cell_type": "markdown",
   "metadata": {},
   "source": [
    "# 19  如何反转二维数组的列\n",
    "```\n",
    "in:arr = np.arange(9).reshape(3,3)\n",
    "out:array([[2, 1, 0],\n",
    "       [5, 4, 3],\n",
    "       [8, 7, 6]])\n",
    "```"
   ]
  },
  {
   "cell_type": "code",
   "execution_count": 17,
   "metadata": {},
   "outputs": [
    {
     "data": {
      "text/plain": [
       "array([[2, 1, 0],\n",
       "       [5, 4, 3],\n",
       "       [8, 7, 6]])"
      ]
     },
     "execution_count": 17,
     "metadata": {},
     "output_type": "execute_result"
    }
   ],
   "source": [
    "arr =np.arange(9).reshape(3,3)\n",
    "\n",
    "arr[:, ::-1]"
   ]
  },
  {
   "cell_type": "markdown",
   "metadata": {},
   "source": [
    "# 20 创建5x3的float二维数组，值是5-10的随机数"
   ]
  },
  {
   "cell_type": "code",
   "execution_count": 18,
   "metadata": {},
   "outputs": [
    {
     "data": {
      "text/plain": [
       "array([[5.36430346, 6.29254072, 9.37873995],\n",
       "       [7.57646779, 7.53803126, 9.23585705],\n",
       "       [5.01396859, 5.94568132, 5.62780931],\n",
       "       [5.91136772, 8.83409439, 8.36371177],\n",
       "       [6.03952493, 7.17546166, 8.23031406]])"
      ]
     },
     "execution_count": 18,
     "metadata": {},
     "output_type": "execute_result"
    }
   ],
   "source": [
    "np.random.uniform(5, 10, size=(5, 3))"
   ]
  },
  {
   "cell_type": "markdown",
   "metadata": {},
   "source": [
    "# 21 [打印设置相关]float数组每个元素保留小数点后3位打印(只是打印时，本质不变)\n",
    "```\n",
    "in:rand_arr = np.random.random((5,3))\n",
    "```"
   ]
  },
  {
   "cell_type": "code",
   "execution_count": 19,
   "metadata": {},
   "outputs": [
    {
     "data": {
      "text/plain": [
       "array([[0.148, 0.859, 0.094],\n",
       "       [0.967, 0.443, 0.907],\n",
       "       [0.602, 0.442, 0.415],\n",
       "       [0.718, 0.313, 0.96 ],\n",
       "       [0.353, 0.457, 0.532]])"
      ]
     },
     "execution_count": 19,
     "metadata": {},
     "output_type": "execute_result"
    }
   ],
   "source": [
    "rand_arr = np.random.random((5,3))\n",
    "\n",
    "np.set_printoptions(precision=3)\n",
    "\n",
    "rand_arr"
   ]
  },
  {
   "cell_type": "markdown",
   "metadata": {},
   "source": [
    "# 22 [打印设置相关]避免科学计数法打印数组\n",
    "```\n",
    "in:np.random.seed(100)\n",
    "rand_arr = np.random.random([3,3])/1e3\n",
    "```"
   ]
  },
  {
   "cell_type": "code",
   "execution_count": 20,
   "metadata": {},
   "outputs": [
    {
     "data": {
      "text/plain": [
       "array([[0.000543, 0.000278, 0.000425],\n",
       "       [0.000845, 0.000005, 0.000122],\n",
       "       [0.000671, 0.000826, 0.000137]])"
      ]
     },
     "execution_count": 20,
     "metadata": {},
     "output_type": "execute_result"
    }
   ],
   "source": [
    "np.random.seed(100)\n",
    "rand_arr = np.random.random([3,3])/1e3\n",
    "\n",
    "np.set_printoptions(suppress=True, precision=6)\n",
    "rand_arr"
   ]
  },
  {
   "cell_type": "markdown",
   "metadata": {},
   "source": [
    "# 23 [打印设置相关]如何限制数组打印条数\n",
    "```\n",
    "in:a = np.arange(15)\n",
    "out: array([ 0,  1,  2, ..., 12, 13, 14])\n",
    "```"
   ]
  },
  {
   "cell_type": "code",
   "execution_count": 23,
   "metadata": {},
   "outputs": [
    {
     "data": {
      "text/plain": [
       "array([ 0,  1,  2, ..., 12, 13, 14])"
      ]
     },
     "execution_count": 23,
     "metadata": {},
     "output_type": "execute_result"
    }
   ],
   "source": [
    "a = np.arange(15)\n",
    "\n",
    "np.set_printoptions(threshold=6)\n",
    "a"
   ]
  },
  {
   "cell_type": "markdown",
   "metadata": {},
   "source": [
    "# 24 [打印设置相关]如何打印全部数据避免被省略"
   ]
  },
  {
   "cell_type": "code",
   "execution_count": 24,
   "metadata": {},
   "outputs": [
    {
     "data": {
      "text/plain": [
       "array([ 0,  1,  2,  3,  4,  5,  6,  7,  8,  9, 10, 11, 12, 13, 14, 15, 16,\n",
       "       17, 18, 19, 20, 21, 22, 23, 24, 25, 26, 27, 28, 29, 30, 31, 32, 33,\n",
       "       34, 35, 36, 37, 38, 39, 40, 41, 42, 43, 44, 45, 46, 47, 48, 49, 50,\n",
       "       51, 52, 53, 54, 55, 56, 57, 58, 59, 60, 61, 62, 63, 64, 65, 66, 67,\n",
       "       68, 69, 70, 71, 72, 73, 74, 75, 76, 77, 78, 79, 80, 81, 82, 83, 84,\n",
       "       85, 86, 87, 88, 89, 90, 91, 92, 93, 94, 95, 96, 97, 98, 99])"
      ]
     },
     "execution_count": 24,
     "metadata": {},
     "output_type": "execute_result"
    }
   ],
   "source": [
    "np.set_printoptions(threshold=100)\n",
    "np.arange(100)"
   ]
  },
  {
   "cell_type": "markdown",
   "metadata": {},
   "source": [
    "# 25 导入含有数字和文本的数据集，保证数据完整(不要让文本变nan了)\n",
    "```\n",
    "in:url = './iris.data'\n",
    "```"
   ]
  },
  {
   "cell_type": "code",
   "execution_count": 27,
   "metadata": {},
   "outputs": [
    {
     "data": {
      "text/plain": [
       "array([[b'5.1', b'3.5', b'1.4', b'0.2', b'Iris-setosa'],\n",
       "       [b'4.9', b'3.0', b'1.4', b'0.2', b'Iris-setosa'],\n",
       "       [b'4.7', b'3.2', b'1.3', b'0.2', b'Iris-setosa'],\n",
       "       ...,\n",
       "       [b'6.5', b'3.0', b'5.2', b'2.0', b'Iris-virginica'],\n",
       "       [b'6.2', b'3.4', b'5.4', b'2.3', b'Iris-virginica'],\n",
       "       [b'5.9', b'3.0', b'5.1', b'1.8', b'Iris-virginica']], dtype=object)"
      ]
     },
     "execution_count": 27,
     "metadata": {},
     "output_type": "execute_result"
    }
   ],
   "source": [
    "url = './iris.data'\n",
    "\n",
    "np.set_printoptions(threshold=6)\n",
    "iris = np.genfromtxt(url, delimiter=',', dtype='object')\n",
    "iris"
   ]
  },
  {
   "cell_type": "markdown",
   "metadata": {},
   "source": [
    "# 26 一维tuple数组，提取特定一列\n",
    "```\n",
    "in:url = './iris.data'\n",
    "iris_1d = np.genfromtxt(url, delimiter=',', dtype=None)\n",
    "```"
   ]
  },
  {
   "cell_type": "code",
   "execution_count": 29,
   "metadata": {},
   "outputs": [
    {
     "name": "stderr",
     "output_type": "stream",
     "text": [
      "<ipython-input-29-d48d911fd317>:2: VisibleDeprecationWarning: Reading unicode strings without specifying the encoding argument is deprecated. Set the encoding, use None for the system default.\n",
      "  iris_1d = np.genfromtxt(url, delimiter=',', dtype=None)\n"
     ]
    },
    {
     "data": {
      "text/plain": [
       "array([b'Iris-setosa', b'Iris-setosa', b'Iris-setosa', b'Iris-setosa',\n",
       "       b'Iris-setosa'], dtype='|S18')"
      ]
     },
     "execution_count": 29,
     "metadata": {},
     "output_type": "execute_result"
    }
   ],
   "source": [
    "url = './iris.data'\n",
    "iris_1d = np.genfromtxt(url, delimiter=',', dtype=None)\n",
    "\n",
    "species = np.array([row[4] for row in iris_1d])\n",
    "species[:5]"
   ]
  },
  {
   "cell_type": "markdown",
   "metadata": {},
   "source": [
    "# 27 如何将一维tuple数组转二维\n",
    "```\n",
    "in:同26\n",
    "```"
   ]
  },
  {
   "cell_type": "code",
   "execution_count": 33,
   "metadata": {},
   "outputs": [
    {
     "name": "stderr",
     "output_type": "stream",
     "text": [
      "<ipython-input-33-e9ec19e8db1c>:2: VisibleDeprecationWarning: Reading unicode strings without specifying the encoding argument is deprecated. Set the encoding, use None for the system default.\n",
      "  iris_1d = np.genfromtxt(url, delimiter=',', dtype=None)\n"
     ]
    },
    {
     "data": {
      "text/plain": [
       "array([[5.1, 3.5, 1.4, 0.2],\n",
       "       [4.9, 3. , 1.4, 0.2],\n",
       "       [4.7, 3.2, 1.3, 0.2],\n",
       "       [4.6, 3.1, 1.5, 0.2]])"
      ]
     },
     "execution_count": 33,
     "metadata": {},
     "output_type": "execute_result"
    }
   ],
   "source": [
    "url = './iris.data'\n",
    "iris_1d = np.genfromtxt(url, delimiter=',', dtype=None)\n",
    "\n",
    "iris_2d = np.array([row.tolist()[:4] for row in iris_1d])\n",
    "iris_2d[:4]"
   ]
  },
  {
   "cell_type": "markdown",
   "metadata": {},
   "source": [
    "# 28 计算数组均值、中位数、标准差\n",
    "```\n",
    "in: np.arange(1000)\n",
    "out:499.5 499.5 288.6749902572095\n",
    "```"
   ]
  },
  {
   "cell_type": "code",
   "execution_count": 34,
   "metadata": {},
   "outputs": [
    {
     "name": "stdout",
     "output_type": "stream",
     "text": [
      "499.5 499.5 288.6749902572095\n"
     ]
    }
   ],
   "source": [
    "a = np.arange(1000)\n",
    "\n",
    "print(np.mean(a), np.median(a), np.std(a))"
   ]
  },
  {
   "cell_type": "markdown",
   "metadata": {},
   "source": [
    "# 29 数组归一化\n",
    "```\n",
    "in:a = np.arange(15)\n",
    "a = a.reshape(3,5)\n",
    "out:array([[0.      , 0.071429, 0.142857, 0.214286, 0.285714],\n",
    "       [0.357143, 0.428571, 0.5     , 0.571429, 0.642857],\n",
    "       [0.714286, 0.785714, 0.857143, 0.928571, 1.      ]])\n",
    "```"
   ]
  },
  {
   "cell_type": "code",
   "execution_count": 36,
   "metadata": {},
   "outputs": [
    {
     "data": {
      "text/plain": [
       "array([[0.      , 0.071429, 0.142857, 0.214286, 0.285714],\n",
       "       [0.357143, 0.428571, 0.5     , 0.571429, 0.642857],\n",
       "       [0.714286, 0.785714, 0.857143, 0.928571, 1.      ]])"
      ]
     },
     "execution_count": 36,
     "metadata": {},
     "output_type": "execute_result"
    }
   ],
   "source": [
    "a = np.arange(15)\n",
    "a = a.reshape(3,5)\n",
    "\n",
    "ma = a.max()\n",
    "mi = a.min()\n",
    "\n",
    "(a - mi) / (ma - mi)"
   ]
  },
  {
   "cell_type": "markdown",
   "metadata": {},
   "source": [
    "# 30 如何计算softmax分数"
   ]
  },
  {
   "cell_type": "code",
   "execution_count": null,
   "metadata": {},
   "outputs": [],
   "source": []
  },
  {
   "cell_type": "markdown",
   "metadata": {},
   "source": [
    "# 31找到第5%和第95%大的值\n",
    "\n",
    "```\n",
    "in:a = np.random.rand(100)\n",
    "```"
   ]
  },
  {
   "cell_type": "code",
   "execution_count": 40,
   "metadata": {},
   "outputs": [
    {
     "data": {
      "text/plain": [
       "array([0.048584, 0.925643])"
      ]
     },
     "execution_count": 40,
     "metadata": {},
     "output_type": "execute_result"
    }
   ],
   "source": [
    "a = np.random.rand(100)\n",
    "\n",
    "np.percentile(a, q=[5, 95])"
   ]
  },
  {
   "cell_type": "markdown",
   "metadata": {},
   "source": [
    "# 32 如何在随机位置改值，在一个数组中随机10个位置改为nan\n",
    "```\n",
    "in: a = np.random.rand(100)\n",
    "```"
   ]
  },
  {
   "cell_type": "code",
   "execution_count": 42,
   "metadata": {},
   "outputs": [
    {
     "data": {
      "text/plain": [
       "array([0.232378, 0.515588, 0.314992, 0.846593, 0.447376, 0.100085,\n",
       "       0.901592, 0.856088,      nan, 0.259015, 0.066371, 0.317632,\n",
       "       0.051843, 0.944188, 0.717217,      nan,      nan, 0.159182,\n",
       "       0.432958, 0.279362, 0.961038, 0.098132, 0.406996, 0.008376,\n",
       "       0.568059, 0.57661 , 0.137144, 0.672219, 0.142874, 0.509231,\n",
       "       0.368762, 0.249107, 0.136282, 0.119291, 0.052388,      nan,\n",
       "       0.770705,      nan, 0.621283, 0.379888, 0.679911,      nan,\n",
       "       0.726638, 0.914483, 0.094895, 0.664977, 0.356873,      nan,\n",
       "       0.945006, 0.223742, 0.057253, 0.642802, 0.088777, 0.667938,\n",
       "       0.607221, 0.0196  , 0.393793,      nan, 0.021136,      nan,\n",
       "       0.565567, 0.008875, 0.162845, 0.898132, 0.355433, 0.309754,\n",
       "       0.582157, 0.522165, 0.882456,      nan,      nan, 0.308387,\n",
       "       0.101004, 0.295022, 0.728905, 0.341879,      nan, 0.956348,\n",
       "       0.999479, 0.337352, 0.475122, 0.82965 , 0.099405, 0.508115,\n",
       "       0.833837, 0.770123,      nan, 0.05155 , 0.681324,      nan,\n",
       "            nan, 0.409846, 0.207041,      nan,      nan, 0.71688 ,\n",
       "            nan, 0.842137, 0.94074 , 0.469801])"
      ]
     },
     "execution_count": 42,
     "metadata": {},
     "output_type": "execute_result"
    }
   ],
   "source": [
    "a = np.random.rand(100)\n",
    "\n",
    "np.set_printoptions(threshold=100)\n",
    "a[np.random.randint(100, size=20)] = np.nan\n",
    "a"
   ]
  },
  {
   "cell_type": "markdown",
   "metadata": {},
   "source": [
    "# 33 找出数组中nan的位置\n",
    "```\n",
    "in: a = np.random.rand(100)\n",
    "a[np.random.randint(100, size=20)] = np.nan\n",
    "out: 20\n",
    "```"
   ]
  },
  {
   "cell_type": "code",
   "execution_count": 45,
   "metadata": {},
   "outputs": [
    {
     "data": {
      "text/plain": [
       "(array([20, 21, 27, 31, 32, 33, 37, 39, 51, 54, 56, 64, 67, 74, 92, 94, 96],\n",
       "       dtype=int64),)"
      ]
     },
     "execution_count": 45,
     "metadata": {},
     "output_type": "execute_result"
    }
   ],
   "source": [
    "a = np.random.rand(100)\n",
    "a[np.random.randint(100, size=20)] = np.nan\n",
    "\n",
    "np.where(np.isnan(a))"
   ]
  },
  {
   "cell_type": "markdown",
   "metadata": {},
   "source": [
    "# 34 使用2个或以上条件来过滤数组元素\n",
    "```\n",
    "in: a = np.random.rand(100)\n",
    "out:在>0.2 且 <0.8\n",
    "```"
   ]
  },
  {
   "cell_type": "code",
   "execution_count": 46,
   "metadata": {},
   "outputs": [
    {
     "data": {
      "text/plain": [
       "array([0.538396, 0.782502, 0.305376, 0.644678, 0.608584, 0.439066,\n",
       "       0.205173, 0.507572, 0.606545, 0.461532, 0.698707, 0.744557,\n",
       "       0.325164, 0.273052, 0.616522, 0.337621, 0.656403, 0.291456,\n",
       "       0.597964, 0.382237, 0.222199, 0.305126, 0.57847 , 0.312139,\n",
       "       0.524061, 0.423371, 0.643928, 0.52589 , 0.249089, 0.271195,\n",
       "       0.794558, 0.415414, 0.478282, 0.340763, 0.460902, 0.521011,\n",
       "       0.769425, 0.747227, 0.764122, 0.267897, 0.72919 , 0.687645,\n",
       "       0.350881, 0.629399, 0.390556, 0.514429, 0.303964, 0.797   ,\n",
       "       0.747515])"
      ]
     },
     "execution_count": 46,
     "metadata": {},
     "output_type": "execute_result"
    }
   ],
   "source": [
    "a = np.random.rand(100)\n",
    "\n",
    "a[(a > 0.2) & (a < 0.8)]"
   ]
  },
  {
   "cell_type": "markdown",
   "metadata": {},
   "source": [
    "# 35 删除含有nan的行\n",
    "```\n",
    "in:a = np.random.rand(100)\n",
    "a[np.random.randint(100, size=4)] = np.nan\n",
    "a = a.reshape(10,10)\n",
    "```"
   ]
  },
  {
   "cell_type": "code",
   "execution_count": 47,
   "metadata": {},
   "outputs": [
    {
     "data": {
      "text/plain": [
       "array([[0.714442, 0.349324, 0.188078, 0.891678, 0.345323, 0.205441,\n",
       "        0.109397, 0.689934, 0.034336, 0.479771],\n",
       "       [0.809378, 0.831479, 0.922972, 0.814104, 0.285064, 0.605866,\n",
       "        0.260997, 0.814646, 0.464467, 0.273283],\n",
       "       [0.134493, 0.144714, 0.196704, 0.497803, 0.20619 , 0.767369,\n",
       "        0.256632, 0.262629, 0.642657, 0.995231],\n",
       "       [0.54251 , 0.732604, 0.366298, 0.074469, 0.195201, 0.974954,\n",
       "        0.504201, 0.985637, 0.334423, 0.866944],\n",
       "       [0.282029, 0.488544, 0.556172, 0.812181, 0.852872, 0.49333 ,\n",
       "        0.959292, 0.158764, 0.035954, 0.40648 ],\n",
       "       [0.342819, 0.275818, 0.572678, 0.669429, 0.904317, 0.863955,\n",
       "        0.746259, 0.949247, 0.468747, 0.570175],\n",
       "       [0.483046, 0.004595, 0.857291, 0.233952, 0.611292, 0.682345,\n",
       "        0.301934, 0.597293, 0.390992, 0.555458]])"
      ]
     },
     "execution_count": 47,
     "metadata": {},
     "output_type": "execute_result"
    }
   ],
   "source": [
    "a = np.random.rand(100)\n",
    "a[np.random.randint(100, size=4)] = np.nan\n",
    "a = a.reshape(10,10)\n",
    "\n",
    "any_nan_in_row = np.array([~np.any(np.isnan(row)) for row in a])\n",
    "a[any_nan_in_row]"
   ]
  },
  {
   "cell_type": "markdown",
   "metadata": {},
   "source": [
    "# 36 求两列相关性(如第0和第2列相关性)\n",
    "```\n",
    "in:a = np.random.rand(100)\n",
    "a = a.reshape(10,10)\n",
    "```"
   ]
  },
  {
   "cell_type": "code",
   "execution_count": 53,
   "metadata": {},
   "outputs": [
    {
     "data": {
      "text/plain": [
       "0.6900083242274561"
      ]
     },
     "execution_count": 53,
     "metadata": {},
     "output_type": "execute_result"
    }
   ],
   "source": [
    "a = np.random.rand(100)\n",
    "a = a.reshape(10,10)\n",
    "\n",
    "np.corrcoef(a[:, 0], a[:, 2])[0, 1]"
   ]
  },
  {
   "cell_type": "markdown",
   "metadata": {},
   "source": [
    "# 37 判断数组是否有nan值\n",
    "```\n",
    "in:a = np.random.rand(100)\n",
    "a[np.random.randint(100, size=4)] = np.nan\n",
    "a = a.reshape(10,10)\n",
    "```"
   ]
  },
  {
   "cell_type": "code",
   "execution_count": 55,
   "metadata": {},
   "outputs": [
    {
     "data": {
      "text/plain": [
       "True"
      ]
     },
     "execution_count": 55,
     "metadata": {},
     "output_type": "execute_result"
    }
   ],
   "source": [
    "a = np.random.rand(100)\n",
    "a[np.random.randint(100, size=4)] = np.nan\n",
    "a = a.reshape(10,10)\n",
    "\n",
    "np.isnan(a).any()"
   ]
  },
  {
   "cell_type": "markdown",
   "metadata": {},
   "source": [
    "# 38 将数组中的nan全部替换为0"
   ]
  },
  {
   "cell_type": "code",
   "execution_count": 58,
   "metadata": {},
   "outputs": [
    {
     "data": {
      "text/plain": [
       "array([[0.      , 0.85202 , 0.262232, 0.716443, 0.887665, 0.846233,\n",
       "        0.218689, 0.178957, 0.301402, 0.907742],\n",
       "       [0.102546, 0.881361, 0.271774, 0.262544, 0.992101, 0.030323,\n",
       "        0.683951, 0.      , 0.576877, 0.478619],\n",
       "       [0.455711, 0.62087 , 0.92506 , 0.078894, 0.893285, 0.386241,\n",
       "        0.544624, 0.44684 , 0.467173, 0.      ],\n",
       "       [0.46473 , 0.519639, 0.727609, 0.377735, 0.215879, 0.106196,\n",
       "        0.867855, 0.146571, 0.788175, 0.33969 ],\n",
       "       [0.874378, 0.793576, 0.925755, 0.166107, 0.750505, 0.736948,\n",
       "        0.267333, 0.769808, 0.915709, 0.750305],\n",
       "       [0.027943, 0.015568, 0.289202, 0.643331, 0.263943, 0.43453 ,\n",
       "        0.034916, 0.018332, 0.798359, 0.05312 ],\n",
       "       [0.482533, 0.825163, 0.833688, 0.80312 , 0.694848, 0.547947,\n",
       "        0.69769 , 0.056204, 0.36687 , 0.      ],\n",
       "       [0.130372, 0.892731, 0.72865 , 0.793154, 0.805607, 0.477018,\n",
       "        0.550608, 0.775342, 0.614103, 0.799209],\n",
       "       [0.555134, 0.166562, 0.242245, 0.751649, 0.263963, 0.35207 ,\n",
       "        0.097637, 0.216781, 0.613143, 0.615725],\n",
       "       [0.22504 , 0.27847 , 0.33853 , 0.105341, 0.097588, 0.481455,\n",
       "        0.590986, 0.821359, 0.36647 , 0.164735]])"
      ]
     },
     "execution_count": 58,
     "metadata": {},
     "output_type": "execute_result"
    }
   ],
   "source": [
    "a = np.random.rand(100)\n",
    "a[np.random.randint(100, size=4)] = np.nan\n",
    "a = a.reshape(10,10)\n",
    "\n",
    "a[np.isnan(a)] = 0\n",
    "a"
   ]
  },
  {
   "cell_type": "markdown",
   "metadata": {},
   "source": [
    "# 39 求数组不重复值个数\n",
    "```\n",
    "in: a = np.random.rand(100)\n",
    "a[np.random.randint(100, size=4)] = np.nan\n",
    "a = a.reshape(10,10)\n",
    "a = a*10\n",
    "a = a.astype('int16')\n",
    "```"
   ]
  },
  {
   "cell_type": "code",
   "execution_count": 59,
   "metadata": {},
   "outputs": [
    {
     "data": {
      "text/plain": [
       "10"
      ]
     },
     "execution_count": 59,
     "metadata": {},
     "output_type": "execute_result"
    }
   ],
   "source": [
    "a = np.random.rand(100)\n",
    "a[np.random.randint(100, size=4)] = np.nan\n",
    "a = a.reshape(10,10)\n",
    "a = a*10\n",
    "a = a.astype('int16')\n",
    "\n",
    "len(np.unique(a))"
   ]
  },
  {
   "cell_type": "markdown",
   "metadata": {},
   "source": [
    "# 40 数字转文本（0-3转s，4-6转m，7-9转l）\n",
    "```\n",
    "a = np.random.rand(100)\n",
    "a = a.reshape(10,10)\n",
    "a = a*10\n",
    "a = a.astype('int16')\n",
    "```"
   ]
  },
  {
   "cell_type": "code",
   "execution_count": 64,
   "metadata": {},
   "outputs": [
    {
     "data": {
      "text/plain": [
       "array([[b's', b'l', b'l', b's', b'l', b's', b'l', b'l', b'l', b'l'],\n",
       "       [b'l', b's', b'm', b'm', b'm', b's', b's', b's', b'm', b's'],\n",
       "       [b'l', b'm', b'm', b'm', b'l', b'm', b'm', b's', b'l', b'l'],\n",
       "       [b's', b's', b's', b's', b'l', b'm', b'l', b's', b'l', b'l'],\n",
       "       [b'm', b'm', b's', b's', b's', b's', b'm', b's', b'm', b'm'],\n",
       "       [b's', b's', b'm', b's', b'l', b'm', b's', b's', b's', b's'],\n",
       "       [b'm', b'l', b'l', b'l', b's', b's', b's', b'm', b'm', b's'],\n",
       "       [b's', b'm', b'm', b'l', b'l', b'l', b'm', b's', b'm', b's'],\n",
       "       [b'm', b'l', b's', b'm', b's', b'm', b'm', b'm', b'l', b'm'],\n",
       "       [b's', b'm', b's', b's', b'm', b's', b's', b'm', b'l', b's']],\n",
       "      dtype='|S20')"
      ]
     },
     "execution_count": 64,
     "metadata": {},
     "output_type": "execute_result"
    }
   ],
   "source": [
    "a = np.random.rand(100)\n",
    "a[np.random.randint(100, size=4)] = np.nan\n",
    "a = a.reshape(10,10)\n",
    "a = a*10\n",
    "a = a.astype('int16')\n",
    "\n",
    "b = np.full_like(a, \"\", dtype='S20')\n",
    "b[a <= 3] = 's'\n",
    "b[(a > 3) & (a <= 6)] = 'm'\n",
    "b[(a > 6) & (a <= 9)] = 'l'\n",
    "b"
   ]
  },
  {
   "cell_type": "markdown",
   "metadata": {},
   "source": [
    "# 41 用现有的列，创建新的一列（第0列叫x,第1列叫y，新增 sin(pi*(x/100)) * y^2）\n",
    "```\n",
    "a = np.random.rand(100)\n",
    "a = a.reshape(10,10)\n",
    "a = a*10\n",
    "a = a.astype('int16')\n",
    "```"
   ]
  },
  {
   "cell_type": "code",
   "execution_count": 66,
   "metadata": {},
   "outputs": [
    {
     "data": {
      "text/plain": [
       "array([-0.707107,  0.094108,  0.      ,  0.      , -0.684547, -0.684547,\n",
       "        0.      , -0.24869 ,  0.031411, -0.684547])"
      ]
     },
     "execution_count": 66,
     "metadata": {},
     "output_type": "execute_result"
    }
   ],
   "source": [
    "a = np.random.rand(100)\n",
    "a = a.reshape(10,10)\n",
    "a = a*10\n",
    "a = a.astype('int16')\n",
    "\n",
    "np.sin(np.pi*(a[0] / 100) * (a[1] ** 2))"
   ]
  },
  {
   "cell_type": "markdown",
   "metadata": {},
   "source": [
    "# 42 从1d数组中抽样选出10个元素\n",
    "```\n",
    "in:a = np.random.rand(100)\n",
    "a = a*10\n",
    "a = a.astype('int16')\n",
    "```\n"
   ]
  },
  {
   "cell_type": "code",
   "execution_count": 67,
   "metadata": {},
   "outputs": [
    {
     "data": {
      "text/plain": [
       "array([9, 2, 8, 1, 8, 2, 1, 1, 1, 7], dtype=int16)"
      ]
     },
     "execution_count": 67,
     "metadata": {},
     "output_type": "execute_result"
    }
   ],
   "source": [
    "a = np.random.rand(100)\n",
    "a = a*10\n",
    "a = a.astype('int16')\n",
    "\n",
    "np.random.choice(a, 10)"
   ]
  },
  {
   "cell_type": "markdown",
   "metadata": {},
   "source": [
    "# 43 如何获取1d数组中不重复的第二大的值\n",
    "```\n",
    "in:a = np.random.rand(100)\n",
    "a = a*10\n",
    "a = a.astype('int16')\n",
    "```"
   ]
  },
  {
   "cell_type": "code",
   "execution_count": 68,
   "metadata": {},
   "outputs": [
    {
     "data": {
      "text/plain": [
       "8"
      ]
     },
     "execution_count": 68,
     "metadata": {},
     "output_type": "execute_result"
    }
   ],
   "source": [
    "a = np.random.rand(100)\n",
    "a = a*10\n",
    "a = a.astype('int16')\n",
    "\n",
    "np.unique(np.sort(a))[-2]"
   ]
  },
  {
   "cell_type": "markdown",
   "metadata": {},
   "source": [
    "# 44 依据某一列对2d数组排序(例如根据第0列排序)\n",
    "```\n",
    "in:a = np.random.rand(100)\n",
    "a = a*10\n",
    "a = a.astype('int16')\n",
    "a = a.reshape(10,10)\n",
    "```"
   ]
  },
  {
   "cell_type": "code",
   "execution_count": 69,
   "metadata": {},
   "outputs": [
    {
     "data": {
      "text/plain": [
       "array([[2, 9, 3, 0, 3, 9, 4, 9, 0, 9],\n",
       "       [2, 6, 4, 4, 3, 8, 6, 7, 6, 6],\n",
       "       [3, 7, 2, 8, 1, 1, 5, 7, 1, 9],\n",
       "       [6, 0, 6, 4, 5, 0, 7, 8, 0, 2],\n",
       "       [6, 9, 5, 7, 2, 8, 0, 3, 4, 7],\n",
       "       [6, 3, 1, 1, 5, 7, 1, 4, 7, 9],\n",
       "       [7, 5, 1, 0, 3, 2, 7, 7, 4, 9],\n",
       "       [8, 3, 1, 5, 9, 0, 6, 3, 3, 3],\n",
       "       [9, 7, 9, 8, 5, 7, 3, 5, 1, 6],\n",
       "       [9, 6, 8, 4, 7, 6, 6, 8, 9, 2]], dtype=int16)"
      ]
     },
     "execution_count": 69,
     "metadata": {},
     "output_type": "execute_result"
    }
   ],
   "source": [
    "a = np.random.rand(100)\n",
    "a = a*10\n",
    "a = a.astype('int16')\n",
    "a = a.reshape(10,10)\n",
    "\n",
    "a[a[:, 0].argsort()]"
   ]
  },
  {
   "cell_type": "markdown",
   "metadata": {},
   "source": [
    "# 45 众数\n",
    "```\n",
    "in:a = np.random.rand(100)\n",
    "a = a*10\n",
    "a = a.astype('int16')\n",
    "a = a.reshape(10,10)\n",
    "```"
   ]
  },
  {
   "cell_type": "code",
   "execution_count": 79,
   "metadata": {},
   "outputs": [
    {
     "name": "stdout",
     "output_type": "stream",
     "text": [
      "[[2 2 9 8 2 6 3 5 3 3]\n",
      " [9 8 4 2 9 3 0 9 1 8]\n",
      " [7 3 9 8 4 0 5 4 3 7]\n",
      " [0 2 6 9 3 7 2 4 6 4]\n",
      " [2 4 5 5 3 3 4 4 2 7]\n",
      " [3 3 2 1 8 2 9 0 0 6]\n",
      " [1 8 2 9 3 9 9 6 7 3]\n",
      " [0 8 9 6 8 9 5 2 6 4]\n",
      " [3 0 0 3 0 5 9 0 6 8]\n",
      " [3 4 0 5 2 7 0 8 6 3]]\n"
     ]
    },
    {
     "data": {
      "text/plain": [
       "3"
      ]
     },
     "execution_count": 79,
     "metadata": {},
     "output_type": "execute_result"
    }
   ],
   "source": [
    "a = np.random.rand(100)\n",
    "a = a*10\n",
    "a = a.astype('int16')\n",
    "a = a.reshape(10,10)\n",
    "\n",
    "print(a)\n",
    "v,c = np.unique(a, return_counts=True)\n",
    "v[np.argmax(c)]"
   ]
  },
  {
   "cell_type": "markdown",
   "metadata": {},
   "source": [
    "# 46 找出比给定值大的数第一次出现的位置\n",
    "```\n",
    "in:a = np.random.rand(100)\n",
    "a = a*10\n",
    "a = a.astype('int16')\n",
    "\n",
    "b = 5\n",
    "```"
   ]
  },
  {
   "cell_type": "code",
   "execution_count": 83,
   "metadata": {},
   "outputs": [
    {
     "data": {
      "text/plain": [
       "array([1], dtype=int64)"
      ]
     },
     "execution_count": 83,
     "metadata": {},
     "output_type": "execute_result"
    }
   ],
   "source": [
    "a = np.random.rand(100)\n",
    "a = a*10\n",
    "a = a.astype('int16')\n",
    "b = 5\n",
    "\n",
    "np.argwhere(a > b)[0]"
   ]
  },
  {
   "cell_type": "markdown",
   "metadata": {},
   "source": [
    "# 47 将所有>7的替换为7，<3的替换为3\n",
    "```\n",
    "in:a = np.random.rand(100)\n",
    "a = a*10\n",
    "a = a.astype('int16')\n",
    "a = a.reshape(10,10)\n",
    "```"
   ]
  },
  {
   "cell_type": "code",
   "execution_count": 85,
   "metadata": {},
   "outputs": [
    {
     "data": {
      "text/plain": [
       "array([[5, 3, 3, 5, 5, 7, 3, 3, 5, 6],\n",
       "       [9, 3, 6, 5, 3, 3, 9, 3, 8, 8],\n",
       "       [7, 3, 3, 3, 3, 7, 3, 5, 7, 4],\n",
       "       [3, 4, 3, 8, 8, 5, 4, 6, 3, 6],\n",
       "       [3, 3, 4, 3, 3, 9, 4, 3, 5, 3],\n",
       "       [3, 6, 3, 4, 4, 3, 8, 4, 3, 8],\n",
       "       [9, 3, 3, 3, 5, 4, 5, 4, 3, 8],\n",
       "       [8, 9, 3, 3, 3, 3, 3, 3, 4, 5],\n",
       "       [5, 3, 3, 4, 3, 4, 3, 3, 3, 3],\n",
       "       [4, 8, 7, 7, 7, 3, 8, 3, 9, 3]], dtype=int16)"
      ]
     },
     "execution_count": 85,
     "metadata": {},
     "output_type": "execute_result"
    }
   ],
   "source": [
    "a = np.random.rand(100)\n",
    "a = a*10\n",
    "a = a.astype('int16')\n",
    "a = a.reshape(10,10)\n",
    "\n",
    "np.where(a < 3, 3, np.where(a > 10, 10, a))"
   ]
  },
  {
   "cell_type": "markdown",
   "metadata": {},
   "source": [
    "# 48 获取1d数组topK大的值（例如k=5）\n",
    "```\n",
    "a = np.random.uniform(1,50, 20)\n",
    "```"
   ]
  },
  {
   "cell_type": "code",
   "execution_count": 87,
   "metadata": {},
   "outputs": [
    {
     "data": {
      "text/plain": [
       "35.20251505066483"
      ]
     },
     "execution_count": 87,
     "metadata": {},
     "output_type": "execute_result"
    }
   ],
   "source": [
    "a = np.random.uniform(1,50, 20)\n",
    "\n",
    "np.sort(a)[-5]"
   ]
  },
  {
   "cell_type": "markdown",
   "metadata": {},
   "source": [
    "# 50 如何把数组的数组转为1d数组\n",
    "```\n",
    "# Input:\n",
    "arr1 = np.arange(3)\n",
    "arr2 = np.arange(3,7)\n",
    "arr3 = np.arange(7,10)\n",
    "\n",
    "array_of_arrays = np.array([arr1, arr2, arr3])\n",
    "```"
   ]
  },
  {
   "cell_type": "code",
   "execution_count": 92,
   "metadata": {},
   "outputs": [
    {
     "name": "stderr",
     "output_type": "stream",
     "text": [
      "<ipython-input-92-38d04af71d85>:6: VisibleDeprecationWarning: Creating an ndarray from ragged nested sequences (which is a list-or-tuple of lists-or-tuples-or ndarrays with different lengths or shapes) is deprecated. If you meant to do this, you must specify 'dtype=object' when creating the ndarray\n",
      "  array_of_arrays = np.array([arr1, arr2, arr3])\n"
     ]
    },
    {
     "data": {
      "text/plain": [
       "array([0, 1, 2, 3, 4, 5, 6, 7, 8, 9])"
      ]
     },
     "execution_count": 92,
     "metadata": {},
     "output_type": "execute_result"
    }
   ],
   "source": [
    "# Input:\n",
    "arr1 = np.arange(3)\n",
    "arr2 = np.arange(3,7)\n",
    "arr3 = np.arange(7,10)\n",
    "\n",
    "array_of_arrays = np.array([arr1, arr2, arr3])\n",
    "\n",
    "np.array([a for arr in array_of_arrays for a in arr])"
   ]
  },
  {
   "cell_type": "markdown",
   "metadata": {},
   "source": [
    "# 51 为数组的每个元素生成二进制编码\n",
    "```\n",
    "in: a = np.array([2, 3, 2, 2, 2, 1])\n",
    "out:array([[ 0.,  1.,  0.],\n",
    "        [ 0.,  0.,  1.],\n",
    "        [ 0.,  1.,  0.],\n",
    "        [ 0.,  1.,  0.],\n",
    "        [ 0.,  1.,  0.],\n",
    "        [ 1.,  0.,  0.]])\n",
    "```"
   ]
  },
  {
   "cell_type": "code",
   "execution_count": 95,
   "metadata": {},
   "outputs": [
    {
     "data": {
      "text/plain": [
       "array([[0., 1., 0.],\n",
       "       [0., 0., 0.],\n",
       "       [0., 0., 0.],\n",
       "       [0., 0., 0.],\n",
       "       [0., 0., 0.],\n",
       "       [0., 0., 0.]])"
      ]
     },
     "execution_count": 95,
     "metadata": {},
     "output_type": "execute_result"
    }
   ],
   "source": [
    "a = np.array([2, 3, 2, 2, 2, 1])\n",
    "\n",
    "def one_hot_encoding(arr):\n",
    "    uniqs = np.unique(arr)\n",
    "    out = np.zeros((arr.shape[0], uniqs.shape[0]))\n",
    "    for i, k in enumerate(arr):\n",
    "        out[i, k-1] = 1\n",
    "        return out\n",
    "    \n",
    "one_hot_encoding(a)"
   ]
  },
  {
   "cell_type": "markdown",
   "metadata": {},
   "source": [
    "# 52 分好组的元素给定组内行号\n",
    "```\n",
    "in: a = np.array(['a','a','a','b','b','c','c','c','c'])\n",
    "out: array([0,1,2,0,1,0,1,2,3])\n",
    "```"
   ]
  },
  {
   "cell_type": "code",
   "execution_count": 104,
   "metadata": {},
   "outputs": [
    {
     "data": {
      "text/plain": [
       "[0, 1, 2, 0, 1, 0, 1, 2, 3]"
      ]
     },
     "execution_count": 104,
     "metadata": {},
     "output_type": "execute_result"
    }
   ],
   "source": [
    "a = np.array(['a','a','a','b','b','c','c','c','c'])\n",
    "\n",
    "[i for val in np.unique(a) for i, grp in enumerate(a[a==val])]"
   ]
  },
  {
   "cell_type": "markdown",
   "metadata": {},
   "source": [
    "# 53 分好组的元素每组给个标号\n",
    "```\n",
    "in: a = np.array(['a','a','a','b','b','c','c','c','c'])\n",
    "out: array([0,0,0,1,1,2,2,2,2])\n",
    "```"
   ]
  },
  {
   "cell_type": "code",
   "execution_count": 105,
   "metadata": {},
   "outputs": [
    {
     "data": {
      "text/plain": [
       "[0, 0, 0, 1, 1, 2, 2, 2, 2]"
      ]
     },
     "execution_count": 105,
     "metadata": {},
     "output_type": "execute_result"
    }
   ],
   "source": [
    "a = np.array(['a','a','a','b','b','c','c','c','c'])\n",
    "\n",
    "[np.argwhere(np.unique(a) == s).tolist()[0][0] for val in np.unique(a) for s in a[a==val]]"
   ]
  },
  {
   "cell_type": "markdown",
   "metadata": {},
   "source": [
    "# 54 给出每个元素在排序后的位置下标数组\n",
    "```\n",
    "in: [ 9  4 15  0 17 16 17  8  9  0]\n",
    "out: [4 2 6 0 8 7 9 3 5 1]\n",
    "```"
   ]
  },
  {
   "cell_type": "code",
   "execution_count": 122,
   "metadata": {},
   "outputs": [
    {
     "name": "stdout",
     "output_type": "stream",
     "text": [
      "Array [ 9  4 15  0 17 16 17  8  9  0]\n",
      "[4 2 6 0 8 7 9 3 5 1]\n"
     ]
    }
   ],
   "source": [
    "np.random.seed(10)\n",
    "a = np.random.randint(20, size=10)\n",
    "print('Array', a)\n",
    "\n",
    "print(a.argsort().argsort())"
   ]
  },
  {
   "cell_type": "markdown",
   "metadata": {},
   "source": [
    "# 55 上题改成多维数组\n",
    "```\n",
    "in:np.random.seed(10)\n",
    "a = np.random.randint(20, size=[2,5])\n",
    "print(a)\n",
    "\n",
    "out:#> [[4 2 6 0 8]\n",
    "#>  [7 9 3 5 1]]\n",
    "```"
   ]
  },
  {
   "cell_type": "code",
   "execution_count": 124,
   "metadata": {},
   "outputs": [
    {
     "name": "stdout",
     "output_type": "stream",
     "text": [
      "[[ 9  4 15  0 17]\n",
      " [16 17  8  9  0]]\n",
      "[[4 2 6 0 8]\n",
      " [7 9 3 5 1]]\n"
     ]
    }
   ],
   "source": [
    "# Input:\n",
    "np.random.seed(10)\n",
    "a = np.random.randint(20, size=[2,5])\n",
    "print(a)\n",
    "\n",
    "print(a.ravel().argsort().argsort().reshape(a.shape))"
   ]
  },
  {
   "cell_type": "markdown",
   "metadata": {},
   "source": [
    "# 56 二维数组找出每一行的最大值\n",
    "```\n",
    "# Input\n",
    "np.random.seed(100)\n",
    "a = np.random.randint(1,10, [5,3])\n",
    "a\n",
    "```"
   ]
  },
  {
   "cell_type": "code",
   "execution_count": 125,
   "metadata": {},
   "outputs": [
    {
     "data": {
      "text/plain": [
       "array([9, 8, 6, 3, 9])"
      ]
     },
     "execution_count": 125,
     "metadata": {},
     "output_type": "execute_result"
    }
   ],
   "source": [
    "np.random.seed(100)\n",
    "a = np.random.randint(1,10, [5,3])\n",
    "\n",
    "np.max(a, axis=1)"
   ]
  },
  {
   "cell_type": "markdown",
   "metadata": {},
   "source": [
    "# 57 上题变种，计算每一行max/min的值"
   ]
  },
  {
   "cell_type": "code",
   "execution_count": 127,
   "metadata": {},
   "outputs": [
    {
     "data": {
      "text/plain": [
       "array([0.444444, 0.125   , 0.5     , 1.      , 0.111111])"
      ]
     },
     "execution_count": 127,
     "metadata": {},
     "output_type": "execute_result"
    }
   ],
   "source": [
    "np.random.seed(100)\n",
    "a = np.random.randint(1,10, [5,3])\n",
    "\n",
    "np.apply_along_axis(lambda x: np.min(x)/np.max(x), arr=a, axis=1)"
   ]
  },
  {
   "cell_type": "markdown",
   "metadata": {},
   "source": [
    "# 58 找到数组中重复的值\n",
    "```\n",
    "in: [0 0 3 0 2 4 2 2 2 2]\n",
    "out:[False  True False  True False False  True  True  True  True]\n",
    "```"
   ]
  },
  {
   "cell_type": "code",
   "execution_count": 53,
   "metadata": {},
   "outputs": [],
   "source": [
    "# Input\n",
    "np.random.seed(100)\n",
    "a = np.random.randint(0, 5, 10)\n",
    "\n",
    "## Solution\n",
    "# There is no direct function to do this as of 1.13.3\n",
    "\n",
    "# Create an all True array\n",
    "out = np.full(a.shape[0], True)\n",
    "\n",
    "# Find the index positions of unique elements\n",
    "unique_positions = np.unique(a, return_index=True)[1]\n",
    "\n",
    "# Mark those positions as False\n",
    "out[unique_positions] = False\n",
    "\n",
    "print(out)"
   ]
  },
  {
   "cell_type": "markdown",
   "metadata": {},
   "source": [
    "# 60 将一张jpg图片转换为numpy数组\n",
    "```\n",
    "in:URL = './Denali_Mt_McKinley.jpg'\n",
    "```"
   ]
  },
  {
   "cell_type": "code",
   "execution_count": 128,
   "metadata": {},
   "outputs": [
    {
     "data": {
      "text/plain": [
       "array([[[  9,  72, 125],\n",
       "        [  9,  72, 125],\n",
       "        [  9,  72, 125],\n",
       "        ...,\n",
       "        [ 42, 103, 147],\n",
       "        [ 42, 103, 147],\n",
       "        [ 43, 104, 148]],\n",
       "\n",
       "       [[  9,  72, 125],\n",
       "        [  9,  72, 125],\n",
       "        [ 10,  73, 126],\n",
       "        ...,\n",
       "        [ 42, 103, 147],\n",
       "        [ 42, 103, 147],\n",
       "        [ 43, 104, 148]],\n",
       "\n",
       "       [[  9,  72, 125],\n",
       "        [ 10,  73, 126],\n",
       "        [ 10,  73, 126],\n",
       "        ...,\n",
       "        [ 44, 105, 150],\n",
       "        [ 45, 106, 151],\n",
       "        [ 45, 106, 151]],\n",
       "\n",
       "       ...,\n",
       "\n",
       "       [[ 21,  41,  50],\n",
       "        [ 29,  51,  64],\n",
       "        [ 28,  54,  69],\n",
       "        ...,\n",
       "        [ 27,  58,  79],\n",
       "        [ 22,  53,  74],\n",
       "        [ 19,  47,  69]],\n",
       "\n",
       "       [[ 27,  51,  63],\n",
       "        [ 29,  55,  68],\n",
       "        [ 27,  56,  72],\n",
       "        ...,\n",
       "        [ 33,  70,  97],\n",
       "        [ 27,  64,  91],\n",
       "        [ 22,  57,  85]],\n",
       "\n",
       "       [[ 18,  45,  56],\n",
       "        [ 20,  48,  62],\n",
       "        [ 21,  52,  70],\n",
       "        ...,\n",
       "        [ 15,  51,  77],\n",
       "        [ 12,  48,  74],\n",
       "        [ 11,  45,  72]]], dtype=uint8)"
      ]
     },
     "execution_count": 128,
     "metadata": {},
     "output_type": "execute_result"
    }
   ],
   "source": [
    "URL = './Denali_Mt_McKinley.jpg'\n",
    "\n",
    "from skimage import io\n",
    "io.imread(URL)"
   ]
  },
  {
   "cell_type": "markdown",
   "metadata": {},
   "source": [
    "# 61 如何剔除所有nan值\n",
    "```\n",
    "in:np.array([1,2,3,np.nan,5,6,7,np.nan])\n",
    "out:array([ 1.,  2.,  3.,  5.,  6.,  7.])\n",
    "```"
   ]
  },
  {
   "cell_type": "code",
   "execution_count": 129,
   "metadata": {},
   "outputs": [
    {
     "data": {
      "text/plain": [
       "array([1., 2., 3., 5., 6., 7.])"
      ]
     },
     "execution_count": 129,
     "metadata": {},
     "output_type": "execute_result"
    }
   ],
   "source": [
    "a = np.array([1,2,3,np.nan,5,6,7,np.nan])\n",
    "\n",
    "a[~np.isnan(a)]"
   ]
  },
  {
   "cell_type": "markdown",
   "metadata": {},
   "source": [
    "# 62 如何计算两数组欧式距离\n",
    "```\n",
    "in:a = np.array([1,2,3,4,5])\n",
    "b = np.array([4,5,6,7,8])\n",
    "out:6.7082039324993694\n",
    "```"
   ]
  },
  {
   "cell_type": "code",
   "execution_count": 130,
   "metadata": {},
   "outputs": [
    {
     "data": {
      "text/plain": [
       "6.708203932499369"
      ]
     },
     "execution_count": 130,
     "metadata": {},
     "output_type": "execute_result"
    }
   ],
   "source": [
    "# Input\n",
    "a = np.array([1,2,3,4,5])\n",
    "b = np.array([4,5,6,7,8])\n",
    "\n",
    "# Solution\n",
    "dist = np.linalg.norm(a-b)\n",
    "dist"
   ]
  },
  {
   "cell_type": "markdown",
   "metadata": {},
   "source": [
    "# 63 一维数组找到所有峰值(比前后都大的值)的下标\n",
    "```\n",
    "in:a = np.array([1, 3, 7, 1, 2, 6, 0, 1])\n",
    "out:[2,5]\n",
    "```"
   ]
  },
  {
   "cell_type": "code",
   "execution_count": 131,
   "metadata": {},
   "outputs": [
    {
     "data": {
      "text/plain": [
       "array([2, 5], dtype=int64)"
      ]
     },
     "execution_count": 131,
     "metadata": {},
     "output_type": "execute_result"
    }
   ],
   "source": [
    "a = np.array([1, 3, 7, 1, 2, 6, 0, 1])\n",
    "doublediff = np.diff(np.sign(np.diff(a)))\n",
    "peak_locations = np.where(doublediff == -2)[0] + 1\n",
    "peak_locations"
   ]
  },
  {
   "cell_type": "code",
   "execution_count": 132,
   "metadata": {},
   "outputs": [
    {
     "data": {
      "text/plain": [
       "[2, 5]"
      ]
     },
     "execution_count": 132,
     "metadata": {},
     "output_type": "execute_result"
    }
   ],
   "source": [
    "res =[]\n",
    "for i in range(1,len(a)-1):\n",
    "    if((a[i]>a[i-1])& (a[i]>a[i+1])):\n",
    "        res.append(i)\n",
    "res"
   ]
  },
  {
   "cell_type": "markdown",
   "metadata": {},
   "source": [
    "# 64 二维数组每一行都减去一个一维数组\n",
    "```\n",
    "in:a_2d = np.array([[3,3,3],[4,4,4],[5,5,5]])\n",
    "  b_1d = np.array([1,2,3])\n",
    "  \n",
    " out: [\n",
    "     [2,1,0],\n",
    "     [3,2,1],\n",
    "     [4,3,2]\n",
    " ]\n",
    "```"
   ]
  },
  {
   "cell_type": "code",
   "execution_count": 134,
   "metadata": {},
   "outputs": [
    {
     "name": "stdout",
     "output_type": "stream",
     "text": [
      "[[2 1 0]\n",
      " [3 2 1]\n",
      " [4 3 2]]\n"
     ]
    }
   ],
   "source": [
    "a_2d = np.array([[3,3,3],[4,4,4],[5,5,5]])\n",
    "b_1d = np.array([1,2,3])\n",
    "\n",
    "print(a_2d - b_1d)"
   ]
  },
  {
   "cell_type": "markdown",
   "metadata": {},
   "source": [
    "# 65 找到第n个特定数出现的下标\n",
    "```\n",
    "找第5个1出现的位置\n",
    "x = np.array([1, 2, 1, 1, 3, 4, 3, 1, 1, 2, 1, 1, 2])\n",
    "```"
   ]
  },
  {
   "cell_type": "code",
   "execution_count": 59,
   "metadata": {},
   "outputs": [],
   "source": [
    "x = np.array([1, 2, 1, 1, 3, 4, 3, 1, 1, 2, 1, 1, 2])"
   ]
  },
  {
   "cell_type": "markdown",
   "metadata": {},
   "source": [
    "# 66 将datetime64类型转datetime类型\n",
    "```\n",
    "in:dt64 = np.datetime64('2018-02-25 22:10:10')\n",
    "```"
   ]
  },
  {
   "cell_type": "code",
   "execution_count": 135,
   "metadata": {},
   "outputs": [
    {
     "data": {
      "text/plain": [
       "datetime.datetime(2018, 2, 25, 22, 10, 10)"
      ]
     },
     "execution_count": 135,
     "metadata": {},
     "output_type": "execute_result"
    }
   ],
   "source": [
    "dt64 = np.datetime64('2018-02-25 22:10:10')\n",
    "\n",
    "dt64 = np.datetime64('2018-02-25 22:10:10')\n",
    "\n",
    "# from datetime import datetime\n",
    "# dt64.astype(datetime)\n",
    "\n",
    "\n",
    "dt64.tolist()"
   ]
  },
  {
   "cell_type": "markdown",
   "metadata": {},
   "source": [
    "# 67 计算滑动窗口均值(例如窗口大小3，就是0-2均值，1-3均值，2-4....)\n",
    "```\n",
    "in:np.random.seed(100)\n",
    "Z = np.random.randint(10, size=10)\n",
    "\n",
    "out:[ 6.33  6.    5.67  4.67  3.67  2.    3.67  3.  ]\n",
    "```"
   ]
  },
  {
   "cell_type": "code",
   "execution_count": 136,
   "metadata": {},
   "outputs": [
    {
     "data": {
      "text/plain": [
       "array([6.333333, 6.      , 5.666667, 4.666667, 3.666667, 2.      ,\n",
       "       3.666667, 3.      ])"
      ]
     },
     "execution_count": 136,
     "metadata": {},
     "output_type": "execute_result"
    }
   ],
   "source": [
    "np.random.seed(100)\n",
    "Z = np.random.randint(10, size=10)\n",
    "\n",
    "np.convolve(Z, np.ones(3)/3, mode='valid') "
   ]
  },
  {
   "cell_type": "markdown",
   "metadata": {},
   "source": [
    "# 68 创建一个等差数列初值5增幅3数组总长10"
   ]
  },
  {
   "cell_type": "code",
   "execution_count": 137,
   "metadata": {},
   "outputs": [
    {
     "data": {
      "text/plain": [
       "array([ 5,  8, 11, 14, 17, 20, 23, 26, 29, 32])"
      ]
     },
     "execution_count": 137,
     "metadata": {},
     "output_type": "execute_result"
    }
   ],
   "source": [
    "np.arange(5, 5+10*3, 3)"
   ]
  },
  {
   "cell_type": "markdown",
   "metadata": {},
   "source": [
    "# 69 如何在一系列无序日期中，补全缺失的日期\n"
   ]
  },
  {
   "cell_type": "code",
   "execution_count": 138,
   "metadata": {},
   "outputs": [
    {
     "name": "stdout",
     "output_type": "stream",
     "text": [
      "['2018-02-01' '2018-02-03' '2018-02-05' '2018-02-07' '2018-02-09'\n",
      " '2018-02-11' '2018-02-13' '2018-02-15' '2018-02-17' '2018-02-19'\n",
      " '2018-02-21' '2018-02-23']\n"
     ]
    },
    {
     "data": {
      "text/plain": [
       "array(['2018-02-01', '2018-02-02', '2018-02-03', '2018-02-04',\n",
       "       '2018-02-05', '2018-02-06', '2018-02-07', '2018-02-08',\n",
       "       '2018-02-09', '2018-02-10', '2018-02-11', '2018-02-12',\n",
       "       '2018-02-13', '2018-02-14', '2018-02-15', '2018-02-16',\n",
       "       '2018-02-17', '2018-02-18', '2018-02-19', '2018-02-20',\n",
       "       '2018-02-21', '2018-02-22', '2018-02-23'], dtype='datetime64[D]')"
      ]
     },
     "execution_count": 138,
     "metadata": {},
     "output_type": "execute_result"
    }
   ],
   "source": [
    "# Input\n",
    "dates = np.arange(np.datetime64('2018-02-01'), np.datetime64('2018-02-25'), 2)\n",
    "print(dates)\n",
    "\n",
    "# Solution ---------------\n",
    "filled_in = np.array([np.arange(date, (date+d)) for date, d in zip(dates, np.diff(dates))]).reshape(-1)\n",
    "\n",
    "# add the last day\n",
    "output = np.hstack([filled_in, dates[-1]])\n",
    "output\n",
    "\n",
    "# For loop version -------\n",
    "out = []\n",
    "for date, d in zip(dates, np.diff(dates)):\n",
    "    out.append(np.arange(date, (date+d)))\n",
    "\n",
    "filled_in = np.array(out).reshape(-1)\n",
    "\n",
    "# add the last day\n",
    "output = np.hstack([filled_in, dates[-1]])\n",
    "output"
   ]
  },
  {
   "cell_type": "markdown",
   "metadata": {},
   "source": [
    "# 70 给定一维数组，创建阶梯型二维数组，二维数组列数是4，步幅是2\n",
    "```\n",
    "in:arr = np.arange(15) \n",
    "out:#> [[ 0  1  2  3]\n",
    "#>  [ 2  3  4  5]\n",
    "#>  [ 4  5  6  7]\n",
    "#>  [ 6  7  8  9]\n",
    "#>  [ 8  9 10 11]\n",
    "#>  [10 11 12 13]]\n",
    "```"
   ]
  },
  {
   "cell_type": "code",
   "execution_count": 142,
   "metadata": {},
   "outputs": [
    {
     "name": "stdout",
     "output_type": "stream",
     "text": [
      "[[ 0  1  2  3]\n",
      " [ 2  3  4  5]\n",
      " [ 4  5  6  7]\n",
      " [ 6  7  8  9]\n",
      " [ 8  9 10 11]\n",
      " [10 11 12 13]]\n"
     ]
    }
   ],
   "source": [
    "arr = np.arange(15) \n",
    "\n",
    "def gen_strides(a, stride_len=5, window_len=5):\n",
    "    n_strides = ((a.size - window_len) // stride_len) + 1\n",
    "    return np.array([a[s:(s+window_len)] for s in np.arange(0, n_strides*stride_len, stride_len)])\n",
    "\n",
    "print(gen_strides(np.arange(15), stride_len=2, window_len=4))"
   ]
  }
 ],
 "metadata": {
  "kernelspec": {
   "display_name": "Python 3",
   "language": "python",
   "name": "python3"
  },
  "language_info": {
   "codemirror_mode": {
    "name": "ipython",
    "version": 3
   },
   "file_extension": ".py",
   "mimetype": "text/x-python",
   "name": "python",
   "nbconvert_exporter": "python",
   "pygments_lexer": "ipython3",
   "version": "3.8.5"
  }
 },
 "nbformat": 4,
 "nbformat_minor": 2
}
